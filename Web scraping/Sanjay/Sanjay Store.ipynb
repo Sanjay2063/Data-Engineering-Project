{
 "cells": [
  {
   "cell_type": "code",
   "execution_count": 1,
   "id": "e24c97b2-ecca-426b-8a98-f3f0b1d9c45b",
   "metadata": {},
   "outputs": [],
   "source": [
    "from bs4 import BeautifulSoup\n",
    "import requests\n",
    "import pandas as pd\n",
    "import time\n",
    "import logging\n",
    "import json\n",
    "import lxml"
   ]
  },
  {
   "cell_type": "code",
   "execution_count": 3,
   "id": "e5556be4-e916-4f4c-aa11-53e220a4ca1d",
   "metadata": {},
   "outputs": [],
   "source": [
    "logging.basicConfig(filename='LK2.log', level=logging.INFO, format='%(asctime)s - %(levelname)s - %(message)s')\n",
    "url='https://www.lenskart.com/stores'\n",
    "response=requests.get(url)\n",
    "soup=BeautifulSoup(response.content,'lxml')\n",
    "links=soup.find_all('a',class_='undefined')"
   ]
  },
  {
   "cell_type": "code",
   "execution_count": 4,
   "id": "4c8a8199-1d36-4a69-818b-11dacd539c7f",
   "metadata": {},
   "outputs": [],
   "source": [
    "link=[]\n",
    "for i in links:\n",
    "    link.append('https://www.lenskart.com' + i.get('href'))"
   ]
  },
  {
   "cell_type": "code",
   "execution_count": 9,
   "id": "de9d5231-3964-4229-ad9a-a7c80bdcaab2",
   "metadata": {},
   "outputs": [],
   "source": [
    "location=[]\n",
    "address=[]\n",
    "phone=[]\n",
    "rating=[]\n",
    "b=1\n",
    "for j in link:\n",
    "    response=requests.get(j)\n",
    "    soup=BeautifulSoup(response.content,'lxml')\n",
    "    x=soup.find_all('div',class_='StoreCard_storeAddressContainer__pBYqN')\n",
    "    \n",
    "    for i in x:\n",
    "        l=i.find('a',class_='StoreCard_name__mrTXJ')\n",
    "        a=i.find('a',class_='StoreCard_storeAddress__PfC_v')\n",
    "        p=i.find('a',class_='',style=\"text-decoration:underline;color:#000042\")\n",
    "        r=i.find('span',class_='')\n",
    "        location.append(l.text)\n",
    "        address.append(a.text)\n",
    "        phone.append(p.text)\n",
    "        if r is not None:\n",
    "            rating.append(r.find_next('span').text)\n",
    "            \n",
    "        else:\n",
    "            rating.append(\"\")\n",
    "            logging.info(str(b)+\": No Reviews\")\n",
    "        b+=1"
   ]
  },
  {
   "cell_type": "code",
   "execution_count": 10,
   "id": "5ce7a7f3-552a-4f03-8cc4-2d10b3643ee6",
   "metadata": {},
   "outputs": [],
   "source": [
    "data = {'Location': location,\n",
    "        'Address': address,\n",
    "        'Phone': phone,\n",
    "        'Rating': rating}\n",
    "\n",
    "df = pd.DataFrame(data)\n",
    "excel_file = 'StoreDetails.xlsx'\n",
    "df.to_excel(excel_file, index=False)"
   ]
  },
  {
   "cell_type": "code",
   "execution_count": null,
   "id": "0399a7c8-4ca0-4076-970a-6513d00ac222",
   "metadata": {},
   "outputs": [],
   "source": []
  }
 ],
 "metadata": {
  "kernelspec": {
   "display_name": "Python 3 (ipykernel)",
   "language": "python",
   "name": "python3"
  },
  "language_info": {
   "codemirror_mode": {
    "name": "ipython",
    "version": 3
   },
   "file_extension": ".py",
   "mimetype": "text/x-python",
   "name": "python",
   "nbconvert_exporter": "python",
   "pygments_lexer": "ipython3",
   "version": "3.11.7"
  }
 },
 "nbformat": 4,
 "nbformat_minor": 5
}
